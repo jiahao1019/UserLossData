{
 "cells": [
  {
   "cell_type": "code",
   "execution_count": 1,
   "metadata": {},
   "outputs": [],
   "source": [
    "from google.cloud import bigquery\n",
    "import requests, datetime\n",
    "import pandas as pd\n",
    "\n",
    "CREDS = r'C:\\Users\\chiahaowang\\Documents\\PythonCode\\bison-prod-bqapi-tool.json'\n",
    "client = bigquery.Client.from_service_account_json(json_credentials_path = CREDS)"
   ]
  },
  {
   "cell_type": "markdown",
   "metadata": {},
   "source": [
    "##### SessionActive"
   ]
  },
  {
   "cell_type": "code",
   "execution_count": null,
   "metadata": {},
   "outputs": [],
   "source": [
    "query_sessionactive = \\\n",
    "\"\"\"\n",
    "select ActiveDate as LoginDate, UserID as transferUID, count(UserID) as LoginTimes\n",
    "from `igs-bison-prod.ExtData_Bison.SessionActive`\n",
    "where ActiveDate >= '2024-08-01' and ActiveDate <= '2024-09-30'\n",
    "group by transferUID,LoginDate\n",
    "\"\"\"\n",
    "\n",
    "job1 = client.query(query_sessionactive)\n",
    "df = job1.to_dataframe()\n",
    "# df.to_csv(r'C:\\Users\\chiahaowang\\Documents\\PythonCode\\LossData\\02_raw_data\\07_depositRecords\\depositRecords.csv', index = False)"
   ]
  },
  {
   "cell_type": "markdown",
   "metadata": {},
   "source": [
    "##### AccountCreate"
   ]
  },
  {
   "cell_type": "code",
   "execution_count": null,
   "metadata": {},
   "outputs": [],
   "source": [
    "query_accountcreate = \\\n",
    "\"\"\"\n",
    "select distinct B.*\n",
    "from\n",
    "(\n",
    "  select ActiveDate as LoginDate, UserID as transferUID, count(UserID) as LoginTimes\n",
    "  from `igs-bison-prod.ExtData_Bison.SessionActive`\n",
    "  where ActiveDate >= '2024-09-01' and ActiveDate <= '2024-09-30'\n",
    "  group by transferUID,LoginDate\n",
    ") as A\n",
    "left join\n",
    "(\n",
    "  select UserID as transferUID, AccountCreateDate as CreateDate\n",
    "  , case when Channel = 'App Store' then 1 \n",
    "         when Channel = 'Google Play' then 2\n",
    "    end as Channel\n",
    "  , case when OpenType = 'ios' then 10 \n",
    "         when OpenType = 'android' then 11\n",
    "    end as OpenType\n",
    "  from `igs-bison-prod.ExtData_Bison.AccountCreate`\n",
    "  where AccountCreateDate >= '2022-12-15'\n",
    ") as B on A.transferUID = B.transferUID\n",
    "\"\"\"\n",
    "\n",
    "job1 = client.query(query_accountcreate)\n",
    "df = job1.to_dataframe()\n",
    "# df.to_csv(r'C:\\Users\\chiahaowang\\Documents\\PythonCode\\LossData\\02_raw_data\\07_depositRecords\\depositRecords.csv', index = False)"
   ]
  },
  {
   "cell_type": "markdown",
   "metadata": {},
   "source": [
    "##### SeeeisonLength"
   ]
  },
  {
   "cell_type": "code",
   "execution_count": null,
   "metadata": {},
   "outputs": [],
   "source": [
    "query_sessionlength = \\\n",
    "\"\"\"\n",
    "select UserID as transferUID, '' as GameID, datetime(timestamp_seconds(cast(PlayStartTs/1000000 as INT64)), 'Asia/Taipei') as StartTime, datetime(timestamp_seconds(cast(PlayEndTs/1000000 as INT64)), 'Asia/Taipei') as EndTime\n",
    ", cast(round((PlayEndTs-PlayStartTs)/1000000/60, 0) as INT64) as Min\n",
    "from `igs-bison-prod.ExtData_Bison.SessionLength`\n",
    "where PlayDate >= '2024-08-01' and PlayDate <= '2024-09-30'\n",
    "\"\"\"\n",
    "\n",
    "job1 = client.query(query_sessionlength)\n",
    "df = job1.to_dataframe()\n",
    "# df.to_csv(r'C:\\Users\\chiahaowang\\Documents\\PythonCode\\LossData\\02_raw_data\\07_depositRecords\\depositRecords.csv', index = False)"
   ]
  },
  {
   "cell_type": "markdown",
   "metadata": {},
   "source": [
    "##### DetailBetWin"
   ]
  },
  {
   "cell_type": "code",
   "execution_count": null,
   "metadata": {},
   "outputs": [],
   "source": [
    "query_betwin = \\\n",
    "\"\"\"\n",
    "select UserID as transferUID, PlayDate as DateKey, count(UserID) as Counts, sum(TotalWin) as RatioTotalWin, sum(TotalBet) as RatioTotalBet\n",
    "from `igs-bison-prod.Custom_Bison.DetailBetWinCustom`\n",
    "where PlayDate >= '2024-08-01' and PlayDate <= '2024-09-30'\n",
    "group by transferUID, DateKey\n",
    "\"\"\"\n",
    "\n",
    "job1 = client.query(query_betwin)\n",
    "df = job1.to_dataframe()\n",
    "# df.to_csv(r'C:\\Users\\chiahaowang\\Documents\\PythonCode\\LossData\\02_raw_data\\07_depositRecords\\depositRecords.csv', index = False)"
   ]
  },
  {
   "cell_type": "markdown",
   "metadata": {},
   "source": [
    "##### DetailCoin"
   ]
  },
  {
   "cell_type": "code",
   "execution_count": null,
   "metadata": {},
   "outputs": [],
   "source": [
    "query_coin = \\\n",
    "\"\"\"\n",
    "select UserID as transferUID, ChangeDate as CreateDate, ChangeReason as Reason, sum(IncreaseCoins) as IncreaseCoins, sum(DecreaseCoins) as DecreaseCoins, count(UserID) as ReasonTimes\n",
    "from `igs-bison-prod.ExtData_Bison.DetailCoin`\n",
    "where ChangeDate >= '2024-08-01' and ChangeDate <= '2024-09-30' and CoinID = 'I000001'\n",
    "group by transferUID, ChangeDate, Reason\n",
    "\"\"\"\n",
    "\n",
    "job1 = client.query(query_coin)\n",
    "df = job1.to_dataframe()\n",
    "# df.to_csv(r'C:\\Users\\chiahaowang\\Documents\\PythonCode\\LossData\\02_raw_data\\07_depositRecords\\depositRecords.csv', index = False)"
   ]
  },
  {
   "cell_type": "markdown",
   "metadata": {},
   "source": [
    "##### GameConsume"
   ]
  },
  {
   "cell_type": "code",
   "execution_count": null,
   "metadata": {},
   "outputs": [],
   "source": [
    "query_gameconsume = \\\n",
    "\"\"\"\n",
    "select A.transferUID, A.CreateDate, A.CoinBefore, A.CoinAfter, B.BuyNumber\n",
    "from\n",
    "(\n",
    "  select UserID as transferUID, ChangeDate as CreateDate, CoinBalanceAfter-IncreaseCoins as CoinBefore, CoinBalanceAfter as CoinAfter, IncreaseCoins\n",
    "  from `igs-bison-prod.ExtData_Bison.DetailCoin`\n",
    "  where ChangeDate >= '2024-08-01' and ChangeDate <= '2024-09-30' and CoinID = 'I000001' and ChangeReason = 'TakeDelivery'\n",
    ") as A\n",
    "inner join\n",
    "(\n",
    "  select PayDate as CreateDate, UserID as transferUID, BuyNumber, CoinAmount\n",
    "  from `igs-bison-prod.ExtData_Bison.GameConsume`\n",
    "  where PayDate >= '2024-08-01' and PayDate <= '2024-09-30'\n",
    ") as B on A.transferUID = B.transferUID and A.CreateDate = B.CreateDate and A.IncreaseCoins = B.CoinAmount\n",
    "\"\"\"\n",
    "\n",
    "job1 = client.query(query_gameconsume)\n",
    "df = job1.to_dataframe()\n",
    "df.to_csv(r'C:\\Users\\chiahaowang\\Documents\\PythonCode\\LossData\\02_raw_data\\07_depositRecords\\depositRecords.csv', index = False)"
   ]
  },
  {
   "cell_type": "markdown",
   "metadata": {},
   "source": [
    "##### Refund"
   ]
  },
  {
   "cell_type": "code",
   "execution_count": 6,
   "metadata": {},
   "outputs": [],
   "source": [
    "query_refund = \\\n",
    "\"\"\"\n",
    "select VoidedDate as DoneTime, UserID as transferUID, OrderID, BuyNumber, Distributor, EventTime, VoidedTime\n",
    "from `igs-bison-prod.Custom_Bison.VoidedPurchase`\n",
    "where ProDate >= '2024-08-01' and ProDate <= '2024-09-30'\n",
    "\"\"\"\n",
    "\n",
    "job1 = client.query(query_refund)\n",
    "df = job1.to_dataframe()\n",
    "df.to_csv(r'C:\\Users\\chiahaowang\\Documents\\PythonCode\\LossData\\02_raw_data\\08_refundRecords\\refundRecords.csv', index = False)"
   ]
  }
 ],
 "metadata": {
  "kernelspec": {
   "display_name": "Python 3",
   "language": "python",
   "name": "python3"
  },
  "language_info": {
   "codemirror_mode": {
    "name": "ipython",
    "version": 3
   },
   "file_extension": ".py",
   "mimetype": "text/x-python",
   "name": "python",
   "nbconvert_exporter": "python",
   "pygments_lexer": "ipython3",
   "version": "3.9.5"
  }
 },
 "nbformat": 4,
 "nbformat_minor": 2
}
